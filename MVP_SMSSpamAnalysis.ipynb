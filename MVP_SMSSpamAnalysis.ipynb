{
  "nbformat": 4,
  "nbformat_minor": 0,
  "metadata": {
    "colab": {
      "provenance": [],
      "authorship_tag": "ABX9TyNiULuFbp9rAKqaOEhbrp/g",
      "include_colab_link": true
    },
    "kernelspec": {
      "name": "python3",
      "display_name": "Python 3"
    },
    "language_info": {
      "name": "python"
    }
  },
  "cells": [
    {
      "cell_type": "markdown",
      "metadata": {
        "id": "view-in-github",
        "colab_type": "text"
      },
      "source": [
        "<a href=\"https://colab.research.google.com/github/nathaliavasconcelos-create/MVP_SMSSpamAnalysis.ipynb/blob/main/MVP_SMSSpamAnalysis.ipynb\" target=\"_parent\"><img src=\"https://colab.research.google.com/assets/colab-badge.svg\" alt=\"Open In Colab\"/></a>"
      ]
    },
    {
      "cell_type": "markdown",
      "source": [
        "# MVP - Análise de potenciais SPAMs em SMS\n",
        "\n",
        "Aluna: Nathalia Vasconcelos Cardoso Rodrigues"
      ],
      "metadata": {
        "id": "RcSNzfiAJzzT"
      }
    },
    {
      "cell_type": "markdown",
      "source": [
        "# 1. Introdução\n",
        "O presente MVP tem como objetivo analisar o dataset referente a mensagens de texto, doravante SMSs, mensagens de texto, contendo potenciais conteúdos de SPAM. O dataset foi obtido a partir do link: https://www.kaggle.com/datasets/uciml/sms-spam-collection-dataset. Além disso, é possível encontrá-lo disponível no repositório UC Irvine.\n",
        "\n",
        "Para resolver o problema de classificação proposto, serão adotados alguns algoritmos de classificação, a saber: SVM, Random Forest, KNN e Naive Bayes. Após a aplicação de cada algoritmo, os resultados obtidos serão comparados, de modo a observar os melhores desempenhos.\n",
        "\n",
        "Relevância\n",
        "\n",
        "A seguir, apresenta-se o código gerado para trabalhar o problema de classificação de mensagens de texto em \"spam\" ou \"ham\" (não-spam). É importante destacar que foram adotadas duas estratégias: divisão do conjunto de dados em training e teste e uso da validação cruzada.\n"
      ],
      "metadata": {
        "id": "wJ2uDvAmJ6iR"
      }
    },
    {
      "cell_type": "markdown",
      "source": [
        "\n",
        "*   Imports necessários\n",
        "\n"
      ],
      "metadata": {
        "id": "amr_PZ3IKIWb"
      }
    },
    {
      "cell_type": "code",
      "source": [
        "#Imports necessários\n",
        "import pandas as pd #import da biblioteca Panda\n",
        "import string\n",
        "from sklearn.feature_extraction.text import TfidfVectorizer\n",
        "from sklearn.model_selection import cross_val_score, StratifiedKFold #para realizar a validação cruzada\n",
        "from sklearn.neighbors import KNeighborsClassifier #para importar algoritmo KNN\n",
        "from sklearn.naive_bayes import GaussianNB #para importar algoritmo Naive Bayes\n",
        "from sklearn.tree import DecisionTreeClassifier #para importar o algoritmo Árvore de Classificação\n",
        "from sklearn.svm import SVC #para importar o algoritmo SVM\n",
        "from sklearn.linear_model import LogisticRegression #para importar o algoritmo de Regressão Logística\n",
        "from sklearn.ensemble import RandomForestClassifier #para importar o algoritmo Random Forest\n",
        "from sklearn.datasets import load_digits\n",
        "from sklearn.preprocessing import StandardScaler\n",
        "from sklearn.metrics import accuracy_score, classification_report, confusion_matrix #para a exibição da acurácia do modelo, relatório de classificação e a matriz de confusão\n",
        "import seaborn as sns #para elaboração de gráficos estatísticos\n",
        "import matplotlib.pyplot as plt #para exibição dos gráficos\n",
        "from imblearn.under_sampling import RandomUnderSampler  # Para undersampling"
      ],
      "metadata": {
        "id": "a65q3pNEKOqo"
      },
      "execution_count": 11,
      "outputs": []
    },
    {
      "cell_type": "markdown",
      "source": [
        "# 2. O dataset\n",
        "Desenvolvido por Tiago Almeida e José Hidalgo, o dataset é composto por 5 colunas, saber: as classes \"spam\" e \"ham\", o texto de cada SMS e duas colunas sem nome. Cabe destacar que o dataset não contém valores nulos.\n",
        "\n",
        "A composição deste dataset foi feita com base em fontes disponíveis de maneira gratuita e online. Segundo informações da página do dataset no Repositório da UC Irvine:\n",
        "\n",
        "Uma coleção de 425 mensagens de spam extraída manualmente do site Grumbletext; um fórum britânico no qual usuários reclamam sobre as SMSs contendo SPAM;\n",
        "Um subconjunto de 3.375 mensagens SMS escolhidas aleatoriamente do NUS SMS Corpus (NSC);\n",
        "Uma lista de 450 mensagens SMS 'ham' coletadas da tese de doutorado de Caroline Tag;\n",
        "o SMS Spam Corpus v.0.1 Big. Possui 1.002 SMS \"ham\" e 322 SMS \"spam\".\n",
        "Por fim, o dataset está desbalanceado, na medida em que, os dados considerados \"ham\" representam 87% do total, ao passo que os dados de \"spam\" perfazem 13% do total.\n"
      ],
      "metadata": {
        "id": "qiQoj1pMKclO"
      }
    },
    {
      "cell_type": "markdown",
      "source": [
        "\n",
        "\n",
        "*   Import do dataset e investigação da sua estrutura\n",
        "\n"
      ],
      "metadata": {
        "id": "zYZ3GnxnKk_O"
      }
    },
    {
      "cell_type": "code",
      "source": [
        "#Url a importar\n",
        "url_dados = 'https://github.com/nathaliavasconcelos-create/MVP_SMSSpamAnalysis.ipynb/blob/main/spam_dataset.csv'\n",
        "\n",
        "# Carregar o dataset e realizar o enconding, dado que o dataset possuía caracteres que não poderiam ser lidos\n",
        "df = pd.read_csv(url_dados.replace('/blob/', '/raw/'), encoding='latin-1')\n",
        "\n",
        "# Verificar as primeiras linhas do dataset\n",
        "print(df.head())\n",
        "\n",
        "# Verificar as distribuições dos valores de \"spam\"/\"ham\", lembrando que a coluna em que este\n",
        "#dado é apresentado no dataset tem como nome v1.\n",
        "print(df['v1'].value_counts())"
      ],
      "metadata": {
        "colab": {
          "base_uri": "https://localhost:8080/"
        },
        "id": "kWGkvQjdKbnV",
        "outputId": "c6e38dc3-7547-432d-9012-2126c6b641c6"
      },
      "execution_count": 12,
      "outputs": [
        {
          "output_type": "stream",
          "name": "stdout",
          "text": [
            "     v1                                                 v2 Unnamed: 2  \\\n",
            "0   ham  Go until jurong point, crazy.. Available only ...        NaN   \n",
            "1   ham                      Ok lar... Joking wif u oni...        NaN   \n",
            "2  spam  Free entry in 2 a wkly comp to win FA Cup fina...        NaN   \n",
            "3   ham  U dun say so early hor... U c already then say...        NaN   \n",
            "4   ham  Nah I don't think he goes to usf, he lives aro...        NaN   \n",
            "\n",
            "  Unnamed: 3 Unnamed: 4  \n",
            "0        NaN        NaN  \n",
            "1        NaN        NaN  \n",
            "2        NaN        NaN  \n",
            "3        NaN        NaN  \n",
            "4        NaN        NaN  \n",
            "v1\n",
            "ham     4825\n",
            "spam     747\n",
            "Name: count, dtype: int64\n"
          ]
        }
      ]
    },
    {
      "cell_type": "code",
      "source": [
        "# Verificar as colunas do dataset\n",
        "print(df.columns)"
      ],
      "metadata": {
        "colab": {
          "base_uri": "https://localhost:8080/"
        },
        "id": "92KUZVjRBBcm",
        "outputId": "8d0aaad5-fb80-4cdc-edd2-cf43e0f81e91"
      },
      "execution_count": 22,
      "outputs": [
        {
          "output_type": "stream",
          "name": "stdout",
          "text": [
            "Index(['v1', 'v2', 'Unnamed: 2', 'Unnamed: 3', 'Unnamed: 4', 'processed_text'], dtype='object')\n"
          ]
        }
      ]
    },
    {
      "cell_type": "code",
      "source": [
        "# Selecionar apenas as colunas relevantes, no caso, v1 e v2\n",
        "df = df[['v1', 'v2']]\n",
        "print (df.columns)"
      ],
      "metadata": {
        "colab": {
          "base_uri": "https://localhost:8080/"
        },
        "id": "MfcAwY34BJ8B",
        "outputId": "b7877683-d40a-4340-b5c6-fb4074602f65"
      },
      "execution_count": 29,
      "outputs": [
        {
          "output_type": "stream",
          "name": "stdout",
          "text": [
            "Index(['v1', 'v2'], dtype='object')\n"
          ]
        }
      ]
    },
    {
      "cell_type": "code",
      "source": [
        "#Renomear\n",
        "df.rename(columns={'v1': 'categoria', 'v2': 'mensagem'}, inplace=True)\n",
        "print (df)"
      ],
      "metadata": {
        "colab": {
          "base_uri": "https://localhost:8080/"
        },
        "id": "PlGyVj-TC4Hv",
        "outputId": "c95b12e8-993d-49c0-f985-bedc796fe807"
      },
      "execution_count": 32,
      "outputs": [
        {
          "output_type": "stream",
          "name": "stdout",
          "text": [
            "      categoria                                          menssagem\n",
            "0             1  Go until jurong point, crazy.. Available only ...\n",
            "1             1                      Ok lar... Joking wif u oni...\n",
            "2             2  Free entry in 2 a wkly comp to win FA Cup fina...\n",
            "3             1  U dun say so early hor... U c already then say...\n",
            "4             1  Nah I don't think he goes to usf, he lives aro...\n",
            "...         ...                                                ...\n",
            "5567          2  This is the 2nd time we have tried 2 contact u...\n",
            "5568          1              Will Ì_ b going to esplanade fr home?\n",
            "5569          1  Pity, * was in mood for that. So...any other s...\n",
            "5570          1  The guy did some bitching but I acted like i'd...\n",
            "5571          1                         Rofl. Its true to its name\n",
            "\n",
            "[5572 rows x 2 columns]\n"
          ]
        }
      ]
    },
    {
      "cell_type": "code",
      "source": [
        "# Verificar valores nulos\n",
        "# Ainda que a informação sobre ausência de valores nulos seja oferecida pelos próprios autores do dataset\n",
        "print(df.isnull().sum())"
      ],
      "metadata": {
        "colab": {
          "base_uri": "https://localhost:8080/"
        },
        "id": "P-dTxlJOKyG-",
        "outputId": "75a79241-acf7-4ab4-9164-8d22232d27d9"
      },
      "execution_count": 13,
      "outputs": [
        {
          "output_type": "stream",
          "name": "stdout",
          "text": [
            "v1               0\n",
            "v2               0\n",
            "Unnamed: 2    5522\n",
            "Unnamed: 3    5560\n",
            "Unnamed: 4    5566\n",
            "dtype: int64\n"
          ]
        }
      ]
    },
    {
      "cell_type": "code",
      "source": [
        "# Visualizar a distribuição dos valores de Spam x Não-Spam ('Ham') no dataset\n",
        "sns.countplot(x='v1', data=df)\n",
        "plt.title('Distribuição de Spam e Não-Spam')\n",
        "plt.show()"
      ],
      "metadata": {
        "colab": {
          "base_uri": "https://localhost:8080/",
          "height": 472
        },
        "id": "056Cd-RuK4VA",
        "outputId": "7c0c8f27-b604-48c5-8092-62b653bb7d2b"
      },
      "execution_count": 14,
      "outputs": [
        {
          "output_type": "display_data",
          "data": {
            "text/plain": [
              "<Figure size 640x480 with 1 Axes>"
            ],
            "image/png": "[encoded data removed]"
          },
          "metadata": {}
        }
      ]
    },
    {
      "cell_type": "markdown",
      "source": [
        "# 3. Pré-processamento dos dataset\n"
      ],
      "metadata": {
        "id": "PyYLozZYLAqt"
      }
    },
    {
      "cell_type": "code",
      "source": [
        "# Etapa pré-processamento do dataset\n",
        "def preprocess_text(text):\n",
        "    text = text.lower()  # Converter o conteúdo do texto para letras minúsculas\n",
        "    text = text.translate(str.maketrans('', '', string.punctuation))  # Remover pontuação\n",
        "    return text\n",
        "\n",
        "# Aplicar pré-processamento\n",
        "df['processed_text'] = df['v2'].apply(preprocess_text)\n",
        "\n",
        "# Usar TF-IDF para transformar o texto em vetores numéricos\n",
        "vectorizer = TfidfVectorizer(stop_words='english')\n",
        "X = vectorizer.fit_transform(df['processed_text'])\n",
        "\n",
        "# Rótulos\n",
        "y = df['v1']"
      ],
      "metadata": {
        "id": "5yupxpKXK6fs"
      },
      "execution_count": 15,
      "outputs": []
    },
    {
      "cell_type": "code",
      "source": [
        "#verificar os valores presentes na coluna \"v1\"\n",
        "print(df['v1'].unique())\n",
        "# Verificar valores NaN\n",
        "print(df['v1'].isnull().sum())"
      ],
      "metadata": {
        "colab": {
          "base_uri": "https://localhost:8080/"
        },
        "id": "mryE5uIWLJHt",
        "outputId": "4c08fee6-351c-4d84-b6fa-d48b914578a0"
      },
      "execution_count": 6,
      "outputs": [
        {
          "output_type": "stream",
          "name": "stdout",
          "text": [
            "['ham' 'spam']\n",
            "0\n"
          ]
        }
      ]
    },
    {
      "cell_type": "code",
      "source": [
        "# Remover espaços extras das labels\n",
        "df['v1'] = df['v1'].str.strip()\n",
        "\n",
        "# Verificar novamente os valores únicos\n",
        "print(df['v1'].unique())"
      ],
      "metadata": {
        "colab": {
          "base_uri": "https://localhost:8080/"
        },
        "id": "94GmKcmCLemd",
        "outputId": "8b92b2ac-d881-4b1c-802a-1de6877bf813"
      },
      "execution_count": 16,
      "outputs": [
        {
          "output_type": "stream",
          "name": "stdout",
          "text": [
            "['ham' 'spam']\n"
          ]
        }
      ]
    },
    {
      "cell_type": "code",
      "source": [
        "# Mapear as labels 'spam' e 'ham' para valores numéricos\n",
        "spam_mapping = {'spam': 2,'ham': 1}\n",
        "df['v1'] = df['v1'].map(spam_mapping)\n",
        "# Verificar a transformação\n",
        "print(df.head())"
      ],
      "metadata": {
        "colab": {
          "base_uri": "https://localhost:8080/"
        },
        "id": "jrivkcaqLiNN",
        "outputId": "6c0c05c6-0799-4f68-ef26-8ffb1e5a24b4"
      },
      "execution_count": 17,
      "outputs": [
        {
          "output_type": "stream",
          "name": "stdout",
          "text": [
            "   v1                                                 v2 Unnamed: 2  \\\n",
            "0   1  Go until jurong point, crazy.. Available only ...        NaN   \n",
            "1   1                      Ok lar... Joking wif u oni...        NaN   \n",
            "2   2  Free entry in 2 a wkly comp to win FA Cup fina...        NaN   \n",
            "3   1  U dun say so early hor... U c already then say...        NaN   \n",
            "4   1  Nah I don't think he goes to usf, he lives aro...        NaN   \n",
            "\n",
            "  Unnamed: 3 Unnamed: 4                                     processed_text  \n",
            "0        NaN        NaN  go until jurong point crazy available only in ...  \n",
            "1        NaN        NaN                            ok lar joking wif u oni  \n",
            "2        NaN        NaN  free entry in 2 a wkly comp to win fa cup fina...  \n",
            "3        NaN        NaN        u dun say so early hor u c already then say  \n",
            "4        NaN        NaN  nah i dont think he goes to usf he lives aroun...  \n"
          ]
        }
      ]
    },
    {
      "cell_type": "code",
      "source": [
        "# Converter as mensagens de texto em vetores numéricos usando CountVectorizer\n",
        "from sklearn.feature_extraction.text import CountVectorizer\n",
        "vectorizer = CountVectorizer(stop_words='english')\n",
        "X = vectorizer.fit_transform(data['message']).toarray()  # Transformar em array\n",
        "y = data['label']\n",
        "\n",
        "# Padronizar os dados (necessário especialmente para SVM)\n",
        "scaler = StandardScaler()\n",
        "X_scaled = scaler.fit_transform(X)\n",
        "\n",
        "# Aplicar o undersampling para balancear as classes\n",
        "undersampler = RandomUnderSampler(sampling_strategy='auto', random_state=42)\n",
        "X_resampled, y_resampled = undersampler.fit_resample(X_scaled, y)\n",
        "\n",
        "# Definir o número de folds para validação cruzada\n",
        "kfold = StratifiedKFold(n_splits=10, shuffle=True, random_state=42)\n",
        "\n",
        "# Definir os classificadores\n",
        "models = {\n",
        "    'KNN': KNeighborsClassifier(),\n",
        "    'Random Forest': RandomForestClassifier(),\n",
        "    'SVM': SVC(),\n",
        "    'Decision Tree': DecisionTreeClassifier(),\n",
        "    'Logistic Regression': LogisticRegression(max_iter=1000),  # max_iter ajustado para garantir convergência\n",
        "    'Naive Bayes':GaussianNB()\n",
        "}\n",
        "\n",
        "# Listas para armazenar os resultados\n",
        "model_names = []\n",
        "mean_accuracies = []\n",
        "std_devs = []\n",
        "\n",
        "# Aplicar validação cruzada\n",
        "for name, model in models.items():\n",
        "    cv_scores = cross_val_score(model, X_scaled, y, cv=kfold, scoring='accuracy')\n",
        "    model_names.append(name)\n",
        "    mean_accuracies.append(cv_scores.mean())\n",
        "    std_devs.append(cv_scores.std())\n",
        "\n",
        "# Exibir os valores numéricos das acurácias médias e desvios padrão\n",
        "for name, mean_acc, std in zip(model_names, mean_accuracies, std_devs):\n",
        "    print(f\"{name} - Acurácia : {mean_acc:.4f}\")\n",
        "\n",
        "# Criando o gráfico comparativo\n",
        "plt.figure(figsize=(10, 6))\n",
        "plt.bar(model_names, mean_accuracies, yerr=std_devs, capsize=5, color=['skyblue', 'lightgreen', 'lightcoral', 'violet', 'purple'])\n",
        "plt.title('Comparação de Modelos (Acurácia com Validação Cruzada)')\n",
        "plt.xlabel('Modelos')\n",
        "plt.ylabel('Acurácia')\n",
        "plt.show()\n"
      ],
      "metadata": {
        "colab": {
          "base_uri": "https://localhost:8080/",
          "height": 669
        },
        "id": "2a_oYZsoLsAk",
        "outputId": "0b75fbfd-c09f-4909-8266-ef761c128870"
      },
      "execution_count": 20,
      "outputs": [
        {
          "output_type": "stream",
          "name": "stdout",
          "text": [
            "KNN - Acurácia : 0.9794\n",
            "Random Forest - Acurácia : 0.9783\n",
            "SVM - Acurácia : 0.9838\n",
            "Decision Tree - Acurácia : 0.8614\n",
            "Logistic Regression - Acurácia : 0.9722\n",
            "Naive Bayes - Acurácia : 0.7891\n"
          ]
        },
        {
          "output_type": "display_data",
          "data": {
            "text/plain": [
              "<Figure size 1000x600 with 1 Axes>"
            ],
            "image/png": "[encoded data removed]"
          },
          "metadata": {}
        }
      ]
    },
    {
      "cell_type": "markdown",
      "source": [
        "# 5. Conclusões\n"
      ],
      "metadata": {
        "id": "9Mb7j5V-4305"
      }
    },
    {
      "cell_type": "markdown",
      "source": [
        "# 6. Próximos passos\n",
        "\n"
      ],
      "metadata": {
        "id": "y46__SRA5BXn"
      }
    }
  ]
}